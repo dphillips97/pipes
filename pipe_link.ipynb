{
 "cells": [
  {
   "cell_type": "code",
   "execution_count": 17,
   "metadata": {},
   "outputs": [],
   "source": [
    "import os\n",
    "from moviepy.editor import VideoFileClip, concatenate_videoclips"
   ]
  },
  {
   "cell_type": "code",
   "execution_count": 18,
   "metadata": {},
   "outputs": [],
   "source": [
    "# read file names\n",
    "path = r'c:/users/dphillips/desktop/pipes' # path to folder\n",
    "\n",
    "# create list of video files\n",
    "pipe_videos = [f for f in os.listdir(path) if f.endswith('.mp4')]"
   ]
  },
  {
   "cell_type": "code",
   "execution_count": 19,
   "metadata": {},
   "outputs": [
    {
     "data": {
      "text/plain": [
       "['12-345_67-890_D.mp4',\n",
       " '12-345_67-890_U.mp4',\n",
       " '23-456_78-901_U.mp4',\n",
       " '34-567_89-012_U.mp4',\n",
       " 'switch.mp4']"
      ]
     },
     "execution_count": 19,
     "metadata": {},
     "output_type": "execute_result"
    }
   ],
   "source": [
    "# testing: show all mp4 files\n",
    "pipe_videos"
   ]
  },
  {
   "cell_type": "code",
   "execution_count": 20,
   "metadata": {},
   "outputs": [
    {
     "name": "stdout",
     "output_type": "stream",
     "text": [
      "{'12-345_67-890': ['12-345_67-890_D.mp4', '12-345_67-890_U.mp4'], '23-456_78-901': ['23-456_78-901_U.mp4'], '34-567_89-012': ['34-567_89-012_U.mp4']}\n"
     ]
    }
   ],
   "source": [
    "# create dict containing pipe names as keys and list of video files as values\n",
    "\n",
    "d = {}\n",
    "\n",
    "for pipe_vid in pipe_videos:\n",
    "    # remove extension and then remove _U or _D marker\n",
    "    # skip \"switch\" clip\n",
    "    if pipe_vid != 'switch.mp4':\n",
    "        pipe_name = pipe_vid.split('.')[0][:-2]\n",
    "        d.setdefault(pipe_name, []).append(pipe_vid)\n",
    "    \n",
    "print(d)"
   ]
  },
  {
   "cell_type": "code",
   "execution_count": 21,
   "metadata": {},
   "outputs": [
    {
     "name": "stdout",
     "output_type": "stream",
     "text": [
      "[MoviePy] >>>> Building video 12-345_67-890_temp.mp4\n",
      "[MoviePy] Writing audio in 12-345_67-890_tempTEMP_MPY_wvf_snd.mp3\n"
     ]
    },
    {
     "name": "stderr",
     "output_type": "stream",
     "text": [
      "100%|██████████████████████████████████████████████████████████████████████████████| 499/499 [00:00<00:00, 1284.48it/s]\n"
     ]
    },
    {
     "name": "stdout",
     "output_type": "stream",
     "text": [
      "[MoviePy] Done.\n",
      "[MoviePy] Writing video 12-345_67-890_temp.mp4\n"
     ]
    },
    {
     "name": "stderr",
     "output_type": "stream",
     "text": [
      "100%|████████████████████████████████████████████████████████████████████████████████| 679/679 [00:08<00:00, 83.90it/s]\n"
     ]
    },
    {
     "name": "stdout",
     "output_type": "stream",
     "text": [
      "[MoviePy] Done.\n",
      "[MoviePy] >>>> Video ready: 12-345_67-890_temp.mp4 \n",
      "\n"
     ]
    }
   ],
   "source": [
    "# if pipe segment has multiple values, combine those 2 videos with a video showing that the direction changes\n",
    "\n",
    "for key in d.keys():\n",
    "    # if dict has multiple values...\n",
    "    if (len(d[key]) > 1):\n",
    "\n",
    "        # create movie objects \n",
    "        clip1 = VideoFileClip(d[key][0])\n",
    "        clip2 = VideoFileClip(d[key][1])\n",
    "        switch = VideoFileClip('switch.mp4')\n",
    "        \n",
    "        # concat clips into 1 \n",
    "        # method = \"compose\" fixes problem of corrupted second video for some reason\n",
    "        final_clip = concatenate_videoclips([clip1, clip2], method='compose', transition=switch)\n",
    "        \n",
    "        # name final video\n",
    "        # temp name to differentiate final video while deleting component videos\n",
    "        final_clip_temp_name = '%s_temp.mp4' % key\n",
    "        # change to \"_U\"\n",
    "        final_clip_name = '%s_F.mp4' % key\n",
    "        \n",
    "        # write concatenated video\n",
    "        final_clip.write_videofile(final_clip_temp_name)\n",
    "        \n",
    "        # delete existing files\n",
    "        #os.remove(d[key][0])\n",
    "        #os.remove(d[key][1])\n",
    "        \n",
    "        # rename \n",
    "        os.rename(src=final_clip_temp_name, dst=final_clip_name)"
   ]
  },
  {
   "cell_type": "code",
   "execution_count": null,
   "metadata": {},
   "outputs": [],
   "source": []
  }
 ],
 "metadata": {
  "kernelspec": {
   "display_name": "Python 3",
   "language": "python",
   "name": "python3"
  },
  "language_info": {
   "codemirror_mode": {
    "name": "ipython",
    "version": 3
   },
   "file_extension": ".py",
   "mimetype": "text/x-python",
   "name": "python",
   "nbconvert_exporter": "python",
   "pygments_lexer": "ipython3",
   "version": "3.6.3"
  }
 },
 "nbformat": 4,
 "nbformat_minor": 2
}
